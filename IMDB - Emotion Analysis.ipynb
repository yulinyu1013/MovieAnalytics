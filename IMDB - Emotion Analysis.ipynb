{
 "cells": [
  {
   "cell_type": "markdown",
   "metadata": {},
   "source": [
    "## Data Loading"
   ]
  },
  {
   "cell_type": "code",
   "execution_count": 1,
   "metadata": {},
   "outputs": [],
   "source": [
    "import pandas as pd"
   ]
  },
  {
   "cell_type": "code",
   "execution_count": 2,
   "metadata": {},
   "outputs": [],
   "source": [
    "movie_char = pd.read_csv('movie100.csv')\n",
    "review = pd.read_csv('Movie_Reviews_100.csv')"
   ]
  },
  {
   "cell_type": "code",
   "execution_count": 3,
   "metadata": {},
   "outputs": [
    {
     "data": {
      "text/html": [
       "<div>\n",
       "<style scoped>\n",
       "    .dataframe tbody tr th:only-of-type {\n",
       "        vertical-align: middle;\n",
       "    }\n",
       "\n",
       "    .dataframe tbody tr th {\n",
       "        vertical-align: top;\n",
       "    }\n",
       "\n",
       "    .dataframe thead th {\n",
       "        text-align: right;\n",
       "    }\n",
       "</style>\n",
       "<table border=\"1\" class=\"dataframe\">\n",
       "  <thead>\n",
       "    <tr style=\"text-align: right;\">\n",
       "      <th></th>\n",
       "      <th>Unnamed: 0</th>\n",
       "      <th>id</th>\n",
       "      <th>title</th>\n",
       "      <th>year</th>\n",
       "      <th>length</th>\n",
       "      <th>genre</th>\n",
       "      <th>rating</th>\n",
       "    </tr>\n",
       "  </thead>\n",
       "  <tbody>\n",
       "    <tr>\n",
       "      <th>0</th>\n",
       "      <td>0</td>\n",
       "      <td>tt0111161</td>\n",
       "      <td>The Shawshank Redemption</td>\n",
       "      <td>1994</td>\n",
       "      <td>2h 22min</td>\n",
       "      <td>Drama</td>\n",
       "      <td>9.3</td>\n",
       "    </tr>\n",
       "    <tr>\n",
       "      <th>1</th>\n",
       "      <td>1</td>\n",
       "      <td>tt0068646</td>\n",
       "      <td>The Godfather</td>\n",
       "      <td>1972</td>\n",
       "      <td>2h 55min</td>\n",
       "      <td>Crime</td>\n",
       "      <td>9.2</td>\n",
       "    </tr>\n",
       "    <tr>\n",
       "      <th>2</th>\n",
       "      <td>2</td>\n",
       "      <td>tt0071562</td>\n",
       "      <td>The Godfather: Part II</td>\n",
       "      <td>1974</td>\n",
       "      <td>3h 22min</td>\n",
       "      <td>Crime</td>\n",
       "      <td>9.0</td>\n",
       "    </tr>\n",
       "    <tr>\n",
       "      <th>3</th>\n",
       "      <td>3</td>\n",
       "      <td>tt0468569</td>\n",
       "      <td>The Dark Knight</td>\n",
       "      <td>2008</td>\n",
       "      <td>2h 32min</td>\n",
       "      <td>Action</td>\n",
       "      <td>9.0</td>\n",
       "    </tr>\n",
       "    <tr>\n",
       "      <th>4</th>\n",
       "      <td>4</td>\n",
       "      <td>tt0050083</td>\n",
       "      <td>12 Angry Men</td>\n",
       "      <td>1957</td>\n",
       "      <td>1h 36min</td>\n",
       "      <td>Crime</td>\n",
       "      <td>8.9</td>\n",
       "    </tr>\n",
       "  </tbody>\n",
       "</table>\n",
       "</div>"
      ],
      "text/plain": [
       "   Unnamed: 0         id                      title  year    length   genre  \\\n",
       "0           0  tt0111161  The Shawshank Redemption   1994  2h 22min   Drama   \n",
       "1           1  tt0068646             The Godfather   1972  2h 55min   Crime   \n",
       "2           2  tt0071562    The Godfather: Part II   1974  3h 22min   Crime   \n",
       "3           3  tt0468569           The Dark Knight   2008  2h 32min  Action   \n",
       "4           4  tt0050083              12 Angry Men   1957  1h 36min   Crime   \n",
       "\n",
       "   rating  \n",
       "0     9.3  \n",
       "1     9.2  \n",
       "2     9.0  \n",
       "3     9.0  \n",
       "4     8.9  "
      ]
     },
     "execution_count": 3,
     "metadata": {},
     "output_type": "execute_result"
    }
   ],
   "source": [
    "movie_char.head()"
   ]
  },
  {
   "cell_type": "code",
   "execution_count": 4,
   "metadata": {},
   "outputs": [
    {
     "data": {
      "text/html": [
       "<div>\n",
       "<style scoped>\n",
       "    .dataframe tbody tr th:only-of-type {\n",
       "        vertical-align: middle;\n",
       "    }\n",
       "\n",
       "    .dataframe tbody tr th {\n",
       "        vertical-align: top;\n",
       "    }\n",
       "\n",
       "    .dataframe thead th {\n",
       "        text-align: right;\n",
       "    }\n",
       "</style>\n",
       "<table border=\"1\" class=\"dataframe\">\n",
       "  <thead>\n",
       "    <tr style=\"text-align: right;\">\n",
       "      <th></th>\n",
       "      <th>Data of Review</th>\n",
       "      <th>Rating (Out of 10)</th>\n",
       "      <th>Review</th>\n",
       "      <th>id</th>\n",
       "    </tr>\n",
       "  </thead>\n",
       "  <tbody>\n",
       "    <tr>\n",
       "      <th>0</th>\n",
       "      <td>2020-07-21 00:00:00</td>\n",
       "      <td>10</td>\n",
       "      <td>A number of giant, career-making performances ...</td>\n",
       "      <td>tt0172495</td>\n",
       "    </tr>\n",
       "    <tr>\n",
       "      <th>1</th>\n",
       "      <td>2020-07-21 00:00:00</td>\n",
       "      <td>10</td>\n",
       "      <td>This is one of the best films seen in my life....</td>\n",
       "      <td>tt0172495</td>\n",
       "    </tr>\n",
       "    <tr>\n",
       "      <th>2</th>\n",
       "      <td>2020-07-13 00:00:00</td>\n",
       "      <td>9</td>\n",
       "      <td>With the unbeliveable acting and production de...</td>\n",
       "      <td>tt0172495</td>\n",
       "    </tr>\n",
       "    <tr>\n",
       "      <th>3</th>\n",
       "      <td>2014-04-27 00:00:00</td>\n",
       "      <td>10</td>\n",
       "      <td>You have to watch this movie at least 3 times ...</td>\n",
       "      <td>tt0172495</td>\n",
       "    </tr>\n",
       "    <tr>\n",
       "      <th>4</th>\n",
       "      <td>2002-03-29 00:00:00</td>\n",
       "      <td>7</td>\n",
       "      <td>There is much to appreciate about about this p...</td>\n",
       "      <td>tt0172495</td>\n",
       "    </tr>\n",
       "  </tbody>\n",
       "</table>\n",
       "</div>"
      ],
      "text/plain": [
       "        Data of Review  Rating (Out of 10)  \\\n",
       "0  2020-07-21 00:00:00                  10   \n",
       "1  2020-07-21 00:00:00                  10   \n",
       "2  2020-07-13 00:00:00                   9   \n",
       "3  2014-04-27 00:00:00                  10   \n",
       "4  2002-03-29 00:00:00                   7   \n",
       "\n",
       "                                              Review         id  \n",
       "0  A number of giant, career-making performances ...  tt0172495  \n",
       "1  This is one of the best films seen in my life....  tt0172495  \n",
       "2  With the unbeliveable acting and production de...  tt0172495  \n",
       "3  You have to watch this movie at least 3 times ...  tt0172495  \n",
       "4  There is much to appreciate about about this p...  tt0172495  "
      ]
     },
     "execution_count": 4,
     "metadata": {},
     "output_type": "execute_result"
    }
   ],
   "source": [
    "review.head()"
   ]
  },
  {
   "cell_type": "markdown",
   "metadata": {},
   "source": [
    "## Emotion Analysis"
   ]
  },
  {
   "cell_type": "markdown",
   "metadata": {},
   "source": [
    "NRCLexicon is an MIT-approved pypi project by Mark M. Bailey which predicts the sentiments and emotion of a given text. The package contains approximately 27,000 words and is based on the National Research Council Canada (NRC) affect lexicon and the NLTK library’s WordNet synonym sets.\n",
    "\n",
    "Emotional affects measured include the following:\n",
    "- fear\n",
    "- anger\n",
    "- anticipation\n",
    "- trust\n",
    "- surprise\n",
    "- positive\n",
    "- negative\n",
    "- sadness\n",
    "- disgust\n",
    "- joy\n",
    "\n",
    "More information: https://www.geeksforgeeks.org/emotion-classification-using-nrc-lexicon-in-python/"
   ]
  },
  {
   "cell_type": "code",
   "execution_count": 5,
   "metadata": {},
   "outputs": [],
   "source": [
    "from nrclex import NRCLex\n",
    "review['nrc'] = review['Review'].apply(lambda x: NRCLex(x))"
   ]
  },
  {
   "cell_type": "code",
   "execution_count": 6,
   "metadata": {},
   "outputs": [],
   "source": [
    "#extract frequency of emotions from reviews\n",
    "review['fear'] = review['nrc'].apply(lambda x: x.affect_frequencies['fear'])\n",
    "review['anger'] = review['nrc'].apply(lambda x: x.affect_frequencies['anger'])\n",
    "review['trust'] = review['nrc'].apply(lambda x: x.affect_frequencies['trust'])\n",
    "review['surprise'] = review['nrc'].apply(lambda x: x.affect_frequencies['surprise'])\n",
    "review['positive'] = review['nrc'].apply(lambda x: x.affect_frequencies['positive'])\n",
    "review['negative'] = review['nrc'].apply(lambda x: x.affect_frequencies['negative'])\n",
    "review['sadness'] = review['nrc'].apply(lambda x: x.affect_frequencies['sadness'])\n",
    "review['disgust'] = review['nrc'].apply(lambda x: x.affect_frequencies['disgust'])\n",
    "review['joy'] = review['nrc'].apply(lambda x: x.affect_frequencies['joy'])\n",
    "review['anticipation'] = review['nrc'].apply(lambda x: list(x.affect_frequencies.values())[-1])"
   ]
  },
  {
   "cell_type": "code",
   "execution_count": 7,
   "metadata": {},
   "outputs": [],
   "source": [
    "#extract top emotions from reviews\n",
    "review['top emotions'] = review['nrc'].apply(lambda x: x.top_emotions)"
   ]
  },
  {
   "cell_type": "code",
   "execution_count": 8,
   "metadata": {},
   "outputs": [],
   "source": [
    "review['top emotions'] = review['top emotions'].apply(lambda x: [e[0] for e in x])"
   ]
  },
  {
   "cell_type": "code",
   "execution_count": 10,
   "metadata": {},
   "outputs": [
    {
     "data": {
      "text/plain": [
       "0                          [positive]\n",
       "1         [fear, trust, anticipation]\n",
       "2                          [positive]\n",
       "3                      [anticipation]\n",
       "4                          [positive]\n",
       "                     ...             \n",
       "127644                     [positive]\n",
       "127645                     [positive]\n",
       "127646                 [anticipation]\n",
       "127647                     [positive]\n",
       "127648                     [positive]\n",
       "Name: top emotions, Length: 127649, dtype: object"
      ]
     },
     "execution_count": 10,
     "metadata": {},
     "output_type": "execute_result"
    }
   ],
   "source": [
    "review['top emotions']"
   ]
  },
  {
   "cell_type": "code",
   "execution_count": 14,
   "metadata": {},
   "outputs": [],
   "source": [
    "#clean reviews\n",
    "\n",
    "##tokenization and remove puncuation\n",
    "review['cleaned review'] = review['Review'].str.replace(r'([^\\w\\s]+)|(\\n)+', ' ').str.lower().str.split()\n",
    "\n",
    "##remove stopwords\n",
    "from nltk.corpus import stopwords\n",
    "review['cleaned review'] = review['cleaned review'].apply(lambda x: [word for word in x if word not in stopwords.words('english')])\n"
   ]
  },
  {
   "cell_type": "markdown",
   "metadata": {},
   "source": [
    "## Visualization of Emotions by Movie Genre - Worldcloud"
   ]
  },
  {
   "cell_type": "code",
   "execution_count": 88,
   "metadata": {},
   "outputs": [],
   "source": [
    "import stylecloud"
   ]
  },
  {
   "cell_type": "code",
   "execution_count": 145,
   "metadata": {},
   "outputs": [],
   "source": [
    "def wc(file_name, text):\n",
    "    name= file_name + '.txt'\n",
    "    \n",
    "    with open(name, 'w') as filehandle:\n",
    "        filehandle.writelines(\"%s\\n\" % \" \".join(word) for word in text)\n",
    "\n",
    "    stylecloud.gen_stylecloud(\n",
    "                          file_path=name,\n",
    "                          icon_name = \"fas fa-video\",\n",
    "                          size =1028,\n",
    "                          palette='tableau.Gray_5',\n",
    "                          background_color ='white',output_name = file_name +'.png'\n",
    ")"
   ]
  },
  {
   "cell_type": "code",
   "execution_count": 19,
   "metadata": {},
   "outputs": [],
   "source": [
    "#merge two datasets to get genre\n",
    "review2 = review.merge(movie_char[['id','genre']]) "
   ]
  },
  {
   "cell_type": "code",
   "execution_count": 98,
   "metadata": {},
   "outputs": [],
   "source": [
    "#further data cleaning for wordcloud\n",
    "#Part of Speech techinique\n",
    "import spacy\n",
    "nlp = spacy.load('en')\n",
    "\n",
    "def pos2(text): #function that only preserves noun in the review\n",
    "    newtxt =[]\n",
    "    doc = nlp(text)\n",
    "    for t in doc:\n",
    "        if t.pos_ =='NOUN': \n",
    "            newtxt.append(t.lemma_)\n",
    "    return newtxt"
   ]
  },
  {
   "cell_type": "code",
   "execution_count": 130,
   "metadata": {},
   "outputs": [],
   "source": [
    "def remove_movie(x): # function that remove \"stop words\"\n",
    "    if 'film' in x:\n",
    "        x = list(filter(('film').__ne__, x))\n",
    "    if 'movie' in x:\n",
    "        x = list(filter(('movie').__ne__, x))\n",
    "    if 'people' in x:\n",
    "        x = list(filter(('people').__ne__, x))\n",
    "    if 'thing' in x:\n",
    "        x = list(filter(('thing').__ne__, x))\n",
    "    if 'time' in x:\n",
    "        x = list(filter(('time').__ne__, x))\n",
    "    if 'year' in x:\n",
    "        x = list(filter(('year').__ne__, x))\n",
    "    if 'story' in x:\n",
    "        x = list(filter(('story').__ne__, x))\n",
    "    if 'character' in x:\n",
    "        x = list(filter(('character').__ne__, x)) \n",
    "    if 'part' in x:\n",
    "        x = list(filter(('part').__ne__, x))\n",
    "    if 'plot' in x:\n",
    "        x = list(filter(('plot').__ne__, x))\n",
    "    if 'way' in x:\n",
    "        x = list(filter(('way').__ne__, x))\n",
    "    if 'scene' in x:\n",
    "        x = list(filter(('scene').__ne__, x))\n",
    "    if 'performance' in x:\n",
    "        x = list(filter(('performance').__ne__, x))\n",
    "    if 'actor' in x:\n",
    "        x = list(filter(('actor').__ne__, x))\n",
    "    return x"
   ]
  },
  {
   "cell_type": "markdown",
   "metadata": {},
   "source": [
    "## Drama"
   ]
  },
  {
   "cell_type": "code",
   "execution_count": 56,
   "metadata": {},
   "outputs": [
    {
     "data": {
      "text/html": [
       "<div>\n",
       "<style scoped>\n",
       "    .dataframe tbody tr th:only-of-type {\n",
       "        vertical-align: middle;\n",
       "    }\n",
       "\n",
       "    .dataframe tbody tr th {\n",
       "        vertical-align: top;\n",
       "    }\n",
       "\n",
       "    .dataframe thead th {\n",
       "        text-align: right;\n",
       "    }\n",
       "</style>\n",
       "<table border=\"1\" class=\"dataframe\">\n",
       "  <thead>\n",
       "    <tr style=\"text-align: right;\">\n",
       "      <th></th>\n",
       "      <th>cleaned review</th>\n",
       "      <th>top emotions</th>\n",
       "    </tr>\n",
       "  </thead>\n",
       "  <tbody>\n",
       "    <tr>\n",
       "      <th>13853</th>\n",
       "      <td>['seldomly', 'rate', 'movies', 'one', 'star', ...</td>\n",
       "      <td>['positive']</td>\n",
       "    </tr>\n",
       "    <tr>\n",
       "      <th>13854</th>\n",
       "      <td>['beloved', 'film', 'many', 'afraid', 'thing',...</td>\n",
       "      <td>['trust', 'positive']</td>\n",
       "    </tr>\n",
       "    <tr>\n",
       "      <th>13855</th>\n",
       "      <td>['people', 'say', 'like', 'eve', 'end', 'borin...</td>\n",
       "      <td>['positive', 'negative']</td>\n",
       "    </tr>\n",
       "    <tr>\n",
       "      <th>13856</th>\n",
       "      <td>['doesen', 'get', 'better', 'eve', 'incredibly...</td>\n",
       "      <td>['positive']</td>\n",
       "    </tr>\n",
       "    <tr>\n",
       "      <th>13857</th>\n",
       "      <td>['ever', 'film', 'destined', 'critics', 'grove...</td>\n",
       "      <td>['positive']</td>\n",
       "    </tr>\n",
       "    <tr>\n",
       "      <th>...</th>\n",
       "      <td>...</td>\n",
       "      <td>...</td>\n",
       "    </tr>\n",
       "    <tr>\n",
       "      <th>121484</th>\n",
       "      <td>['7', 'shining', 'horror', '1980', 'jack', 'ja...</td>\n",
       "      <td>['positive']</td>\n",
       "    </tr>\n",
       "    <tr>\n",
       "      <th>121485</th>\n",
       "      <td>['combination', 'legendary', 'stanley', 'kubri...</td>\n",
       "      <td>['positive']</td>\n",
       "    </tr>\n",
       "    <tr>\n",
       "      <th>121486</th>\n",
       "      <td>['generally', 'like', 'horror', 'movies', 'one...</td>\n",
       "      <td>['positive']</td>\n",
       "    </tr>\n",
       "    <tr>\n",
       "      <th>121487</th>\n",
       "      <td>['felt', 'comment', 'film', 'think', 'great', ...</td>\n",
       "      <td>['positive']</td>\n",
       "    </tr>\n",
       "    <tr>\n",
       "      <th>121488</th>\n",
       "      <td>['first', 'saw', 'shining', 'film', 'students'...</td>\n",
       "      <td>['positive', 'anticipation']</td>\n",
       "    </tr>\n",
       "  </tbody>\n",
       "</table>\n",
       "<p>31063 rows × 2 columns</p>\n",
       "</div>"
      ],
      "text/plain": [
       "                                           cleaned review  \\\n",
       "13853   ['seldomly', 'rate', 'movies', 'one', 'star', ...   \n",
       "13854   ['beloved', 'film', 'many', 'afraid', 'thing',...   \n",
       "13855   ['people', 'say', 'like', 'eve', 'end', 'borin...   \n",
       "13856   ['doesen', 'get', 'better', 'eve', 'incredibly...   \n",
       "13857   ['ever', 'film', 'destined', 'critics', 'grove...   \n",
       "...                                                   ...   \n",
       "121484  ['7', 'shining', 'horror', '1980', 'jack', 'ja...   \n",
       "121485  ['combination', 'legendary', 'stanley', 'kubri...   \n",
       "121486  ['generally', 'like', 'horror', 'movies', 'one...   \n",
       "121487  ['felt', 'comment', 'film', 'think', 'great', ...   \n",
       "121488  ['first', 'saw', 'shining', 'film', 'students'...   \n",
       "\n",
       "                        top emotions  \n",
       "13853                   ['positive']  \n",
       "13854          ['trust', 'positive']  \n",
       "13855       ['positive', 'negative']  \n",
       "13856                   ['positive']  \n",
       "13857                   ['positive']  \n",
       "...                              ...  \n",
       "121484                  ['positive']  \n",
       "121485                  ['positive']  \n",
       "121486                  ['positive']  \n",
       "121487                  ['positive']  \n",
       "121488  ['positive', 'anticipation']  \n",
       "\n",
       "[31063 rows x 2 columns]"
      ]
     },
     "execution_count": 56,
     "metadata": {},
     "output_type": "execute_result"
    }
   ],
   "source": [
    "drama = review2.loc[review2['genre']=='Drama',['cleaned review','top emotions']]\n",
    "drama "
   ]
  },
  {
   "cell_type": "code",
   "execution_count": 101,
   "metadata": {},
   "outputs": [
    {
     "name": "stdout",
     "output_type": "stream",
     "text": [
      "CPU times: user 16min 27s, sys: 1min 23s, total: 17min 50s\n",
      "Wall time: 17min 52s\n"
     ]
    }
   ],
   "source": [
    "%%time\n",
    "#further clean review\n",
    "drama['noun'] =  drama['cleaned review'].apply(lambda x: pos2(x))"
   ]
  },
  {
   "cell_type": "code",
   "execution_count": 131,
   "metadata": {},
   "outputs": [],
   "source": [
    "#further clean review\n",
    "drama['noun2'] = drama['noun'].apply(remove_movie)"
   ]
  },
  {
   "cell_type": "code",
   "execution_count": 132,
   "metadata": {},
   "outputs": [],
   "source": [
    "#extract emotions\n",
    "drama_positive= drama.loc[drama['top emotions'].apply(lambda x: 'positive' in x),'noun2']\n",
    "drama_negative= drama.loc[drama['top emotions'].apply(lambda x: 'negative' in x),'noun2']\n",
    "drama_anticipation= drama.loc[drama['top emotions'].apply(lambda x: 'anticipation' in x),'noun2']\n",
    "drama_trust= drama.loc[drama['top emotions'].apply(lambda x: 'trust' in x),'noun2']\n",
    "drama_fear= drama.loc[drama['top emotions'].apply(lambda x: 'fear' in x),'noun2']\n",
    "drama_joy= drama.loc[drama['top emotions'].apply(lambda x: 'joy' in x),'noun2']\n",
    "drama_sadness= drama.loc[drama['top emotions'].apply(lambda x: 'sadness' in x),'noun2']\n",
    "drama_surprise= drama.loc[drama['top emotions'].apply(lambda x: 'surprise' in x),'noun2']\n",
    "drama_anger= drama.loc[drama['top emotions'].apply(lambda x: 'anger' in x),'noun2']\n",
    "drama_disgust= drama.loc[drama['top emotions'].apply(lambda x: 'disgust' in x),'noun2']"
   ]
  },
  {
   "cell_type": "code",
   "execution_count": 133,
   "metadata": {},
   "outputs": [],
   "source": [
    "#create wordcloud images\n",
    "wc('drama_positive', drama_positive)\n",
    "wc('drama_negative', drama_negative)\n",
    "wc('drama_anticipation', drama_anticipation)\n",
    "wc('drama_trust', drama_trust)\n",
    "wc('drama_fear', drama_fear)\n",
    "wc('drama_joy', drama_joy)\n",
    "wc('drama_sadness', drama_sadness)\n",
    "wc('drama_surprise', drama_surprise)\n",
    "wc('drama_anger', drama_anger)\n",
    "wc('drama_disgust', drama_disgust)"
   ]
  },
  {
   "cell_type": "code",
   "execution_count": 55,
   "metadata": {},
   "outputs": [
    {
     "data": {
      "text/plain": [
       "'positive'        23355\n",
       "'negative'         7365\n",
       "'anticipation'     4369\n",
       "'trust'            3654\n",
       "'fear'             3172\n",
       "'joy'              2826\n",
       "'sadness'          1879\n",
       "'surprise'         1754\n",
       "'anger'            1640\n",
       "'disgust'          1309\n",
       "'anticip'           981\n",
       "Name: top emotions, dtype: int64"
      ]
     },
     "execution_count": 55,
     "metadata": {},
     "output_type": "execute_result"
    }
   ],
   "source": [
    "drama['top emotions'].str.strip('[]').str.replace(',',\"\").str.split().explode().value_counts()"
   ]
  },
  {
   "cell_type": "code",
   "execution_count": 34,
   "metadata": {},
   "outputs": [],
   "source": [
    "#perform similar process for the other 2 genres\n",
    "action = review2.loc[review2['genre']=='Action',['cleaned review','top emotions']]\n",
    "crime = review2.loc[review2['genre']=='Crime',['cleaned review','top emotions']]\n",
    "comedy = review2.loc[review2['genre']=='Comedy',['cleaned review','top emotions']]"
   ]
  },
  {
   "cell_type": "markdown",
   "metadata": {},
   "source": [
    "## Action"
   ]
  },
  {
   "cell_type": "code",
   "execution_count": 62,
   "metadata": {},
   "outputs": [
    {
     "data": {
      "text/plain": [
       "'positive'        33364\n",
       "'negative'         8194\n",
       "'anticipation'     6734\n",
       "'trust'            4786\n",
       "'joy'              3956\n",
       "'fear'             3247\n",
       "'surprise'         2564\n",
       "'sadness'          2558\n",
       "'anger'            2424\n",
       "'disgust'          1950\n",
       "'anticip'          1471\n",
       "Name: top emotions, dtype: int64"
      ]
     },
     "execution_count": 62,
     "metadata": {},
     "output_type": "execute_result"
    }
   ],
   "source": [
    "action['top emotions'].str.strip('[]').str.replace(',',\"\").str.split().explode().value_counts()"
   ]
  },
  {
   "cell_type": "code",
   "execution_count": 105,
   "metadata": {},
   "outputs": [
    {
     "name": "stdout",
     "output_type": "stream",
     "text": [
      "CPU times: user 22min 5s, sys: 2min, total: 24min 5s\n",
      "Wall time: 24min 7s\n"
     ]
    }
   ],
   "source": [
    "%%time\n",
    "action['noun'] =  action['cleaned review'].apply(lambda x: pos2(x))"
   ]
  },
  {
   "cell_type": "code",
   "execution_count": 134,
   "metadata": {},
   "outputs": [],
   "source": [
    "action['noun2'] = action['noun'].apply(remove_movie)"
   ]
  },
  {
   "cell_type": "code",
   "execution_count": 135,
   "metadata": {},
   "outputs": [],
   "source": [
    "action_positive= action.loc[action['top emotions'].apply(lambda x: 'positive' in x),'noun2']\n",
    "action_negative= action.loc[action['top emotions'].apply(lambda x: 'negative' in x),'noun2']\n",
    "action_anticipation= action.loc[action['top emotions'].apply(lambda x: 'anticipation' in x),'noun2']\n",
    "action_trust= action.loc[action['top emotions'].apply(lambda x: 'trust' in x),'noun2']\n",
    "action_joy= action.loc[action['top emotions'].apply(lambda x: 'joy' in x),'noun2']\n",
    "action_fear= action.loc[action['top emotions'].apply(lambda x: 'fear' in x),'noun2']\n",
    "action_sadness= action.loc[action['top emotions'].apply(lambda x: 'sadness' in x),'noun2']\n",
    "action_surprise= action.loc[action['top emotions'].apply(lambda x: 'surprise' in x),'noun2']\n",
    "action_anger= action.loc[action['top emotions'].apply(lambda x: 'anger' in x),'noun2']\n",
    "action_disgust= action.loc[action['top emotions'].apply(lambda x: 'disgust' in x),'noun2']"
   ]
  },
  {
   "cell_type": "code",
   "execution_count": 136,
   "metadata": {},
   "outputs": [],
   "source": [
    "wc('action_positive', action_positive)\n",
    "wc('action_negative', action_negative)\n",
    "wc('action_anticipation', action_anticipation)\n",
    "wc('action_trust', action_trust)\n",
    "wc('action_fear', action_fear)\n",
    "wc('action_joy', action_joy)\n",
    "wc('action_sadness', action_sadness)\n",
    "wc('action_surprise', action_surprise)\n",
    "wc('action_anger', action_anger)\n",
    "wc('action_disgust', action_disgust)"
   ]
  },
  {
   "cell_type": "markdown",
   "metadata": {},
   "source": [
    "## Crime"
   ]
  },
  {
   "cell_type": "code",
   "execution_count": 64,
   "metadata": {},
   "outputs": [
    {
     "data": {
      "text/plain": [
       "'positive'        20467\n",
       "'negative'         7065\n",
       "'anticipation'     4382\n",
       "'trust'            3655\n",
       "'joy'              3186\n",
       "'fear'             3008\n",
       "'sadness'          2263\n",
       "'surprise'         2011\n",
       "'anger'            1906\n",
       "'disgust'          1532\n",
       "'anticip'          1075\n",
       "Name: top emotions, dtype: int64"
      ]
     },
     "execution_count": 64,
     "metadata": {},
     "output_type": "execute_result"
    }
   ],
   "source": [
    "crime['top emotions'].str.strip('[]').str.replace(',',\"\").str.split().explode().value_counts()"
   ]
  },
  {
   "cell_type": "code",
   "execution_count": 113,
   "metadata": {},
   "outputs": [
    {
     "name": "stdout",
     "output_type": "stream",
     "text": [
      "CPU times: user 12min 51s, sys: 1min 6s, total: 13min 58s\n",
      "Wall time: 13min 59s\n"
     ]
    }
   ],
   "source": [
    "%%time\n",
    "crime['noun'] =  crime['cleaned review'].apply(lambda x: pos2(x))\n"
   ]
  },
  {
   "cell_type": "code",
   "execution_count": 137,
   "metadata": {},
   "outputs": [],
   "source": [
    "crime['noun2'] = crime['noun'].apply(remove_movie)"
   ]
  },
  {
   "cell_type": "code",
   "execution_count": 138,
   "metadata": {},
   "outputs": [],
   "source": [
    "crime_positive= crime.loc[crime['top emotions'].apply(lambda x: 'positive' in x),'noun2']\n",
    "crime_negative= crime.loc[crime['top emotions'].apply(lambda x: 'negative' in x),'noun2']\n",
    "crime_anticipation= crime.loc[crime['top emotions'].apply(lambda x: 'anticipation' in x),'noun2']\n",
    "crime_trust= crime.loc[crime['top emotions'].apply(lambda x: 'trust' in x),'noun2']\n",
    "crime_joy= crime.loc[crime['top emotions'].apply(lambda x: 'joy' in x),'noun2']\n",
    "crime_fear= crime.loc[crime['top emotions'].apply(lambda x: 'fear' in x),'noun2']\n",
    "crime_sadness= crime.loc[crime['top emotions'].apply(lambda x: 'sadness' in x),'noun2']\n",
    "crime_surprise= crime.loc[crime['top emotions'].apply(lambda x: 'surprise' in x),'noun2']\n",
    "crime_anger= crime.loc[crime['top emotions'].apply(lambda x: 'anger' in x),'noun2']\n",
    "crime_disgust= crime.loc[crime['top emotions'].apply(lambda x: 'disgust' in x),'noun2']"
   ]
  },
  {
   "cell_type": "code",
   "execution_count": 139,
   "metadata": {},
   "outputs": [],
   "source": [
    "wc('crime_positive', crime_positive)\n",
    "wc('crime_negative', crime_negative)\n",
    "wc('crime_anticipation', crime_anticipation)\n",
    "wc('crime_trust', crime_trust)\n",
    "wc('crime_fear', crime_fear)\n",
    "wc('crime_joy', crime_joy)\n",
    "wc('crime_sadness', crime_sadness)\n",
    "wc('crime_surprise', crime_surprise)\n",
    "wc('crime_anger', crime_anger)\n",
    "wc('crime_disgust', crime_disgust)"
   ]
  },
  {
   "cell_type": "code",
   "execution_count": null,
   "metadata": {},
   "outputs": [],
   "source": []
  }
 ],
 "metadata": {
  "kernelspec": {
   "display_name": "Python 3",
   "language": "python",
   "name": "python3"
  },
  "language_info": {
   "codemirror_mode": {
    "name": "ipython",
    "version": 3
   },
   "file_extension": ".py",
   "mimetype": "text/x-python",
   "name": "python",
   "nbconvert_exporter": "python",
   "pygments_lexer": "ipython3",
   "version": "3.8.3"
  }
 },
 "nbformat": 4,
 "nbformat_minor": 4
}
